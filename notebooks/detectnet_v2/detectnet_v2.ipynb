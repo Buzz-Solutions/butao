{
 "cells": [
  {
   "cell_type": "markdown",
   "id": "0787acf3-0b70-4115-b332-896230f1eec7",
   "metadata": {},
   "source": [
    "# detectnet_v2"
   ]
  },
  {
   "cell_type": "code",
   "execution_count": null,
   "id": "8f69324b-a5d4-4007-97d5-d716a5f9be48",
   "metadata": {
    "tags": []
   },
   "outputs": [],
   "source": [
    "from butao import env\n",
    "from butao.data import TaoData\n",
    "from butao.model import TaoModel"
   ]
  },
  {
   "cell_type": "markdown",
   "id": "353329ca-01df-4483-8cfc-d33f86a9f38d",
   "metadata": {},
   "source": [
    "## choose config"
   ]
  },
  {
   "cell_type": "code",
   "execution_count": null,
   "id": "f5efddb5-2d97-4446-9975-f80b6428511e",
   "metadata": {
    "tags": []
   },
   "outputs": [],
   "source": [
    "config = \"detectnet_v2\"  # maps to butao/configs/detectnet_v2.yaml"
   ]
  },
  {
   "cell_type": "markdown",
   "id": "c6b84227-5fee-42c4-b982-0a49e79534b5",
   "metadata": {
    "tags": []
   },
   "source": [
    "## sets environment, data folders, spec files"
   ]
  },
  {
   "cell_type": "code",
   "execution_count": null,
   "id": "79e9d9ee-fcf6-4f6e-b2b8-76401a9e0dce",
   "metadata": {
    "tags": []
   },
   "outputs": [],
   "source": [
    "root_dir = env.get_root_dir()\n",
    "config_path = env.get_root_config(config=config)\n",
    "env.set_environment(config_path, root_dir=root_dir)\n",
    "\n",
    "data = TaoData(config_path)\n",
    "model = TaoModel(config_path)"
   ]
  },
  {
   "cell_type": "markdown",
   "id": "cde7cade-6cd5-4751-919f-2147938d7a57",
   "metadata": {},
   "source": [
    "## downloads data and converts to tfrecords"
   ]
  },
  {
   "cell_type": "code",
   "execution_count": null,
   "id": "3321a0eb-7784-48e1-90fd-18f1d31346de",
   "metadata": {
    "tags": []
   },
   "outputs": [],
   "source": [
    "data.download()"
   ]
  },
  {
   "cell_type": "code",
   "execution_count": null,
   "id": "e5cbe14a",
   "metadata": {},
   "outputs": [],
   "source": [
    "data.print_downloaded_data_info()"
   ]
  },
  {
   "cell_type": "code",
   "execution_count": null,
   "id": "9e585b02-c77d-44cb-821d-5b89e8c0de17",
   "metadata": {},
   "outputs": [],
   "source": [
    "! tao detectnet_v2 dataset_convert -d {data.spec_file} -o {data.tfrecords_dir}"
   ]
  },
  {
   "cell_type": "markdown",
   "id": "79b94e41-f840-445a-8eb9-8d2f5f2edd8a",
   "metadata": {},
   "source": [
    "## downloads model"
   ]
  },
  {
   "cell_type": "code",
   "execution_count": null,
   "id": "41660b86-2cca-48d7-b891-40cf17fd4696",
   "metadata": {},
   "outputs": [],
   "source": [
    "!ngc registry model list {model.ngc_registry}:*"
   ]
  },
  {
   "cell_type": "code",
   "execution_count": null,
   "id": "732b0226-7cc9-401e-8803-f2510ab64237",
   "metadata": {},
   "outputs": [],
   "source": [
    "!ngc registry model download-version {model.ngc_registry}:{model.model_type} \\\n",
    "    --dest {model.local_model_dir}"
   ]
  },
  {
   "cell_type": "markdown",
   "id": "609e42b3-cfe7-49a0-b7c0-bc0ba3d1933c",
   "metadata": {},
   "source": [
    "## trains"
   ]
  },
  {
   "cell_type": "code",
   "execution_count": null,
   "id": "08cb2ad4-5ab0-44f9-9f0a-f17d029fe425",
   "metadata": {
    "tags": []
   },
   "outputs": [],
   "source": [
    "model.adjust_train_spec()  # adjust batch_size_per_gpu based on NUM_GPUS\n",
    "model.print_train_spec()"
   ]
  },
  {
   "cell_type": "code",
   "execution_count": null,
   "id": "11023331-09f8-4315-b9cd-88cbd170554c",
   "metadata": {
    "tags": []
   },
   "outputs": [],
   "source": [
    "!tao detectnet_v2 train -e {model.local_train_spec} \\\n",
    "                        -r $USER_EXPERIMENT_DIR/experiment_dir_unpruned \\\n",
    "                        -k $KEY \\\n",
    "                        -n resnet18_detector \\\n",
    "                        --gpus $NUM_GPUS"
   ]
  }
 ],
 "metadata": {
  "kernelspec": {
   "display_name": "butao",
   "language": "python",
   "name": "butao"
  },
  "language_info": {
   "codemirror_mode": {
    "name": "ipython",
    "version": 3
   },
   "file_extension": ".py",
   "mimetype": "text/x-python",
   "name": "python",
   "nbconvert_exporter": "python",
   "pygments_lexer": "ipython3",
   "version": "3.9.16"
  }
 },
 "nbformat": 4,
 "nbformat_minor": 5
}
