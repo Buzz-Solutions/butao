{
 "cells": [
  {
   "cell_type": "markdown",
   "id": "0787acf3-0b70-4115-b332-896230f1eec7",
   "metadata": {},
   "source": [
    "# detectnet_v2"
   ]
  },
  {
   "cell_type": "code",
   "execution_count": null,
   "id": "8f69324b-a5d4-4007-97d5-d716a5f9be48",
   "metadata": {
    "tags": []
   },
   "outputs": [],
   "source": [
    "from butao import env\n",
    "from butao.data import TaoData"
   ]
  },
  {
   "cell_type": "markdown",
   "id": "c6b84227-5fee-42c4-b982-0a49e79534b5",
   "metadata": {
    "tags": []
   },
   "source": [
    "## initialize environment and data object"
   ]
  },
  {
   "cell_type": "code",
   "execution_count": null,
   "id": "79e9d9ee-fcf6-4f6e-b2b8-76401a9e0dce",
   "metadata": {
    "tags": []
   },
   "outputs": [],
   "source": [
    "root_dir = env.get_root_dir()\n",
    "config_path = env.get_root_config()\n",
    "env.set_environment(config_path, root_dir=root_dir)\n",
    "\n",
    "data = TaoData(config_path)"
   ]
  },
  {
   "cell_type": "markdown",
   "id": "cde7cade-6cd5-4751-919f-2147938d7a57",
   "metadata": {},
   "source": [
    "## download data and convert to kitti format"
   ]
  },
  {
   "cell_type": "code",
   "execution_count": null,
   "id": "3321a0eb-7784-48e1-90fd-18f1d31346de",
   "metadata": {
    "tags": []
   },
   "outputs": [],
   "source": [
    "data.download()"
   ]
  },
  {
   "cell_type": "code",
   "execution_count": null,
   "id": "e5cbe14a",
   "metadata": {},
   "outputs": [],
   "source": [
    "data.print_downloaded_data_info()"
   ]
  },
  {
   "cell_type": "code",
   "execution_count": null,
   "id": "59d637bb-d771-4350-ba51-7b9acf37a036",
   "metadata": {},
   "outputs": [],
   "source": [
    "data.convert(kitti=True)"
   ]
  },
  {
   "cell_type": "code",
   "execution_count": null,
   "id": "dc59c7d4-9c15-4aa9-b643-9ce842faeff6",
   "metadata": {},
   "outputs": [],
   "source": [
    "! tao detectnet_v2 dataset_convert \\\n",
    "-d /workspace/tao-experiments/detectnet_v2/specs/detectnet_v2_tfrecords_kitti_trainval.txt \\\n",
    "-o /workspace/tao-experiments/data/tfrecords/kitti_trainval/kitti_trainval"
   ]
  },
  {
   "cell_type": "code",
   "execution_count": null,
   "id": "34c42e14-0f1f-426c-a487-d1dccae632cb",
   "metadata": {},
   "outputs": [],
   "source": []
  }
 ],
 "metadata": {
  "kernelspec": {
   "display_name": "butao",
   "language": "python",
   "name": "butao"
  },
  "language_info": {
   "codemirror_mode": {
    "name": "ipython",
    "version": 3
   },
   "file_extension": ".py",
   "mimetype": "text/x-python",
   "name": "python",
   "nbconvert_exporter": "python",
   "pygments_lexer": "ipython3",
   "version": "3.9.16"
  }
 },
 "nbformat": 4,
 "nbformat_minor": 5
}
