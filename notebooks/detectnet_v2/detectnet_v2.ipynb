{
 "cells": [
  {
   "cell_type": "code",
   "execution_count": 1,
   "id": "8f69324b-a5d4-4007-97d5-d716a5f9be48",
   "metadata": {
    "tags": []
   },
   "outputs": [],
   "source": [
    "from butao import env\n",
    "from butao.data import TaoData"
   ]
  },
  {
   "cell_type": "code",
   "execution_count": 2,
   "id": "79e9d9ee-fcf6-4f6e-b2b8-76401a9e0dce",
   "metadata": {
    "tags": []
   },
   "outputs": [],
   "source": [
    "root_dir = env.get_root_dir()\n",
    "config_path = env.get_root_config()\n",
    "env.set_environment(config_path, root_dir=root_dir)\n",
    "\n",
    "data = TaoData(config_path)"
   ]
  },
  {
   "cell_type": "code",
   "execution_count": 3,
   "id": "3321a0eb-7784-48e1-90fd-18f1d31346de",
   "metadata": {
    "tags": []
   },
   "outputs": [],
   "source": [
    "data.download()"
   ]
  },
  {
   "cell_type": "code",
   "execution_count": null,
   "outputs": [],
   "source": [
    "data.print_downloaded_data_info()"
   ],
   "metadata": {
    "collapsed": false
   }
  },
  {
   "cell_type": "code",
   "execution_count": null,
   "id": "59d637bb-d771-4350-ba51-7b9acf37a036",
   "metadata": {},
   "outputs": [],
   "source": [
    "data.convert(kitti=True)"
   ]
  }
 ],
 "metadata": {
  "kernelspec": {
   "display_name": "butao",
   "language": "python",
   "name": "butao"
  },
  "language_info": {
   "codemirror_mode": {
    "name": "ipython",
    "version": 3
   },
   "file_extension": ".py",
   "mimetype": "text/x-python",
   "name": "python",
   "nbconvert_exporter": "python",
   "pygments_lexer": "ipython3",
   "version": "3.10.9"
  }
 },
 "nbformat": 4,
 "nbformat_minor": 5
}
