{
 "cells": [
  {
   "cell_type": "code",
   "execution_count": null,
   "id": "8f69324b-a5d4-4007-97d5-d716a5f9be48",
   "metadata": {
    "tags": []
   },
   "outputs": [],
   "source": [
    "%load_ext autoreload\n",
    "%autoreload 2\n",
    "\n",
    "from butao.env import TaoEnv, get_root_config\n",
    "from butao.data import TaoData\n",
    "from butao.model import TaoModel\n",
    "from butao.infer import TaoInfer"
   ]
  },
  {
   "cell_type": "markdown",
   "id": "353329ca-01df-4483-8cfc-d33f86a9f38d",
   "metadata": {},
   "source": [
    "## choose config"
   ]
  },
  {
   "cell_type": "code",
   "execution_count": null,
   "id": "f5efddb5-2d97-4446-9975-f80b6428511e",
   "metadata": {
    "tags": []
   },
   "outputs": [],
   "source": [
    "config = \"detectnet_v2\"  # maps to butao/configs/detectnet_v2.yaml"
   ]
  },
  {
   "cell_type": "markdown",
   "id": "c6b84227-5fee-42c4-b982-0a49e79534b5",
   "metadata": {
    "tags": []
   },
   "source": [
    "## get configs, make dirs and mount file"
   ]
  },
  {
   "cell_type": "code",
   "execution_count": null,
   "id": "79e9d9ee-fcf6-4f6e-b2b8-76401a9e0dce",
   "metadata": {
    "tags": []
   },
   "outputs": [],
   "source": [
    "config_path = get_root_config(config=config)\n",
    "env = TaoEnv(config_path)\n",
    "data = TaoData(config_path)\n",
    "model = TaoModel(config_path)\n",
    "infer = TaoInfer(config_path)\n",
    "\n",
    "env.make_mount_file()"
   ]
  },
  {
   "cell_type": "markdown",
   "id": "d2bcac41-da3f-498e-986d-a062014994b1",
   "metadata": {},
   "source": [
    "*Note: Please make sure to remove any stray artifacts/files from the `env.user_experiment_dir` or `env.data_download_dir` paths as mentioned below, that may have been generated from previous experiments. Having checkpoint files etc may interfere with creating a training graph for a new experiment.*"
   ]
  },
  {
   "cell_type": "code",
   "execution_count": 34,
   "id": "d50d87e7-8641-45a8-b320-327ca8cbc57f",
   "metadata": {
    "tags": []
   },
   "outputs": [
    {
     "name": "stdout",
     "output_type": "stream",
     "text": [
      "local workspace: \n",
      "/home/david/butao/notebooks/detectnet_v2\n",
      "\n",
      "data and model spec files must be copied to: \n",
      "/home/david/butao/notebooks/detectnet_v2/specs\n",
      "\n",
      "dataset will be in: \n",
      "/home/david/butao/notebooks/detectnet_v2/data\n",
      "\n",
      "TAO experiment outputs will be in: \n",
      "/home/david/butao/notebooks/detectnet_v2/detectnet_v2\n",
      "\n"
     ]
    }
   ],
   "source": [
    "print(f\"local workspace: \\n{env.local_project_dir}\\n\")\n",
    "print(f\"data and model spec files must be copied to: \\n{env.local_specs_dir}\\n\")\n",
    "print(f\"dataset will be in: \\n{env.local_data_dir}\\n\")\n",
    "print(f\"TAO experiment outputs will be in: \\n{env.local_experiment_dir}\\n\")"
   ]
  },
  {
   "cell_type": "markdown",
   "id": "cde7cade-6cd5-4751-919f-2147938d7a57",
   "metadata": {
    "tags": []
   },
   "source": [
    "## downloads data and converts to tfrecords"
   ]
  },
  {
   "cell_type": "code",
   "execution_count": null,
   "id": "3321a0eb-7784-48e1-90fd-18f1d31346de",
   "metadata": {
    "tags": []
   },
   "outputs": [],
   "source": [
    "data.download()"
   ]
  },
  {
   "cell_type": "code",
   "execution_count": null,
   "id": "e5cbe14a",
   "metadata": {},
   "outputs": [],
   "source": [
    "data.print_downloaded_data_info()"
   ]
  },
  {
   "cell_type": "code",
   "execution_count": null,
   "id": "9e585b02-c77d-44cb-821d-5b89e8c0de17",
   "metadata": {},
   "outputs": [],
   "source": [
    "!tao {env.tao_model_name} dataset_convert -d {data.spec_file} -o {data.tfrecords_dir}"
   ]
  },
  {
   "cell_type": "markdown",
   "id": "79b94e41-f840-445a-8eb9-8d2f5f2edd8a",
   "metadata": {},
   "source": [
    "## downloads model"
   ]
  },
  {
   "cell_type": "code",
   "execution_count": null,
   "id": "41660b86-2cca-48d7-b891-40cf17fd4696",
   "metadata": {},
   "outputs": [],
   "source": [
    "!ngc registry model list {model.ngc_registry}:*"
   ]
  },
  {
   "cell_type": "code",
   "execution_count": null,
   "id": "732b0226-7cc9-401e-8803-f2510ab64237",
   "metadata": {},
   "outputs": [],
   "source": [
    "!ngc registry model download-version {model.ngc_registry}:{model.model_version} \\\n",
    "    --dest {model.local_model_dir}"
   ]
  },
  {
   "cell_type": "markdown",
   "id": "609e42b3-cfe7-49a0-b7c0-bc0ba3d1933c",
   "metadata": {},
   "source": [
    "## trains"
   ]
  },
  {
   "cell_type": "code",
   "execution_count": null,
   "id": "d6fdb74d-b115-4276-9df2-0afeb1648423",
   "metadata": {
    "tags": []
   },
   "outputs": [],
   "source": [
    "model.show_hyperparams(hparams=[\n",
    "    \"min_learning_rate\", \"max_learning_rate\", \"batch_size_per_gpu\"\n",
    "])"
   ]
  },
  {
   "cell_type": "markdown",
   "id": "6e1d22fd-225d-48af-9f3c-9c49db5bdd59",
   "metadata": {},
   "source": [
    "*Note: current learning rates assume single-gpu training. It's a good idea to adjust them for multi-gpu training, since adding gpus increases total batch size*"
   ]
  },
  {
   "cell_type": "code",
   "execution_count": null,
   "id": "f9c8c594-fa2c-4333-80be-e70621341fb6",
   "metadata": {
    "tags": []
   },
   "outputs": [],
   "source": [
    "model.adjust_train_spec(hparams={\n",
    "    \"min_learning_rate\": \"5e-05\",\n",
    "    \"max_learning_rate\": \"5e-03\",\n",
    "    \"batch_size_per_gpu\": 8\n",
    "})"
   ]
  },
  {
   "cell_type": "code",
   "execution_count": null,
   "id": "11023331-09f8-4315-b9cd-88cbd170554c",
   "metadata": {
    "tags": []
   },
   "outputs": [],
   "source": [
    "!tao detectnet_v2 train -e {model.train_spec} \\\n",
    "                        -r {model.user_experiment_dir_unpruned} \\\n",
    "                        -k {model.key} \\\n",
    "                        -n {model.model_version} \\\n",
    "                        --gpus {model.num_gpus}"
   ]
  },
  {
   "cell_type": "markdown",
   "id": "2c24d90d-d8ee-4c51-94a4-26d83c00390a",
   "metadata": {},
   "source": [
    "## Visualize inferences\n",
    "In this section, we run the inference tool to generate inferences on the trained models. To render bboxes from more classes, please edit the inference spec file to include all the classes you would like to visualize and edit the rest of the file accordingly."
   ]
  },
  {
   "cell_type": "code",
   "execution_count": null,
   "id": "47d9b5ce-4177-45bf-a7f6-1c21d684a658",
   "metadata": {
    "tags": []
   },
   "outputs": [],
   "source": [
    "print(f\"Copy some test images here: {infer.local_sample_data_dir}\")\n",
    "print(f\"Edit this spec file here: {infer.local_inference_spec}\")"
   ]
  },
  {
   "cell_type": "code",
   "execution_count": null,
   "id": "bc6a11a6-de8b-443a-9ffd-80d2cf468078",
   "metadata": {},
   "outputs": [],
   "source": [
    "# Running inference for detection on n images\n",
    "!tao detectnet_v2 inference -e {infer.inference_spec} \\\n",
    "                            -o {infer.infer_dir} \\\n",
    "                            -i {infer.sample_data_dir} \\\n",
    "                            -k {model.key}"
   ]
  },
  {
   "cell_type": "code",
   "execution_count": null,
   "id": "605b52d8-bac1-4c96-b078-c00a1e623cf6",
   "metadata": {
    "tags": []
   },
   "outputs": [],
   "source": [
    "print(f\"\"\"\n",
    "    The inference tool produces two outputs.\n",
    "    \n",
    "    1. Overlain images in:\n",
    "    {infer.local_annotated_dir}\n",
    "    \n",
    "    2. Frame by frame bbox labels in kitti format located in:\n",
    "    {infer.local_predictions_dir}\n",
    "\"\"\")"
   ]
  },
  {
   "cell_type": "markdown",
   "id": "b49091d6-95c6-43f7-b2e9-681dfc0c6d64",
   "metadata": {
    "tags": []
   },
   "source": [
    "*Note: To run inferences for a single image, simply replace the path to the -i flag in inference command with the **docker image's path** to the image.*"
   ]
  },
  {
   "cell_type": "code",
   "execution_count": null,
   "id": "adf6c4ab-281c-4d1a-8aef-d5524300ae1f",
   "metadata": {
    "tags": []
   },
   "outputs": [],
   "source": [
    "infer.plot_image_grid(rows=3, cols=2, num_images=5)"
   ]
  }
 ],
 "metadata": {
  "kernelspec": {
   "display_name": "butao",
   "language": "python",
   "name": "butao"
  },
  "language_info": {
   "codemirror_mode": {
    "name": "ipython",
    "version": 3
   },
   "file_extension": ".py",
   "mimetype": "text/x-python",
   "name": "python",
   "nbconvert_exporter": "python",
   "pygments_lexer": "ipython3",
   "version": "3.9.16"
  }
 },
 "nbformat": 4,
 "nbformat_minor": 5
}
